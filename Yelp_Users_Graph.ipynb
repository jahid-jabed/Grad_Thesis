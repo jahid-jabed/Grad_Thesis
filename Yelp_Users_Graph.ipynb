{
  "nbformat": 4,
  "nbformat_minor": 0,
  "metadata": {
    "colab": {
      "name": "Yelp_Users_Graph.ipynb",
      "private_outputs": true,
      "provenance": [],
      "authorship_tag": "ABX9TyNnep8eDWMMVyLY+IDyPPxn",
      "include_colab_link": true
    },
    "kernelspec": {
      "name": "python3",
      "display_name": "Python 3"
    },
    "language_info": {
      "name": "python"
    },
    "accelerator": "GPU",
    "gpuClass": "standard"
  },
  "cells": [
    {
      "cell_type": "markdown",
      "metadata": {
        "id": "view-in-github",
        "colab_type": "text"
      },
      "source": [
        "<a href=\"https://colab.research.google.com/github/jahid-jabed/Grad_Thesis/blob/main/Yelp_Users_Graph.ipynb\" target=\"_parent\"><img src=\"https://colab.research.google.com/assets/colab-badge.svg\" alt=\"Open In Colab\"/></a>"
      ]
    },
    {
      "cell_type": "code",
      "execution_count": null,
      "metadata": {
        "id": "cgAspizsyv_5"
      },
      "outputs": [],
      "source": [
        "from google.colab import drive\n",
        "drive.mount('/content/drive')"
      ]
    },
    {
      "cell_type": "code",
      "source": [
        "# load json\n",
        "import numpy as np\n",
        "import pandas as pd\n",
        "\n",
        "dfUsers = []\n",
        "\n",
        "r_dtype = {\"useful\": np.int32,\n",
        "           \"funny\": np.int32,\n",
        "           \"cool\": np.int32,\n",
        "           \"review_count\": np.int32,\n",
        "           }\n",
        "\n",
        "path_to_json_file = '/content/drive/My Drive/Thesis Works/Datasets/Yelp_Dataset/yelp_academic_dataset_user.json'\n",
        "with open(path_to_json_file, 'r') as json_file:\n",
        "  reader = pd.read_json(json_file, orient=\"records\", lines=True, dtype=r_dtype, chunksize=1000)\n",
        "  for chunk in reader:\n",
        "    #reduced_chunk = chunk.drop(columns=['elite', 'yelping_since'])\n",
        "    dfUsers.append(chunk)\n",
        "\n",
        "dfUsers = pd.concat(dfUsers, ignore_index=True)"
      ],
      "metadata": {
        "id": "47HKANN1zBTl"
      },
      "execution_count": null,
      "outputs": []
    },
    {
      "cell_type": "code",
      "source": [
        "dfUsers"
      ],
      "metadata": {
        "id": "RZbHjVQv0uFU"
      },
      "execution_count": null,
      "outputs": []
    },
    {
      "cell_type": "code",
      "source": [
        "#dfUsers = dfUsers.iloc[: , 0:8]\n",
        "dfUsers = dfUsers.drop(dfUsers.columns.difference(['user_id', 'friends']), axis=1)"
      ],
      "metadata": {
        "id": "0r5li0Ry1Pzc"
      },
      "execution_count": null,
      "outputs": []
    },
    {
      "cell_type": "code",
      "source": [
        "dfUsers"
      ],
      "metadata": {
        "id": "tKNbQ6Dm1o55"
      },
      "execution_count": null,
      "outputs": []
    },
    {
      "cell_type": "code",
      "source": [
        "#dfUsers = dfUsers.drop(['review_count', 'useful', 'funny', 'cool'], axis=1)"
      ],
      "metadata": {
        "id": "Ztag6s9s2kiD"
      },
      "execution_count": null,
      "outputs": []
    },
    {
      "cell_type": "code",
      "source": [
        "#dfUsers"
      ],
      "metadata": {
        "id": "Fzmv9kXw3W5j"
      },
      "execution_count": null,
      "outputs": []
    },
    {
      "cell_type": "code",
      "source": [
        "dfUsers = dfUsers.replace(to_replace='None', value=np.nan).dropna()"
      ],
      "metadata": {
        "id": "geR_P0y43ZNM"
      },
      "execution_count": null,
      "outputs": []
    },
    {
      "cell_type": "code",
      "source": [
        "dfUsers"
      ],
      "metadata": {
        "id": "iPXD4pvbGADh"
      },
      "execution_count": null,
      "outputs": []
    },
    {
      "cell_type": "code",
      "source": [
        "path = '/content/drive/My Drive/Thesis Works/Datasets/Yelp_Dataset/users_to_friends.csv'\n",
        "\n",
        "with open(path, 'w', encoding = 'utf-8-sig') as f:\n",
        "  dfUsers.to_csv(f)"
      ],
      "metadata": {
        "id": "4R0XJ8JXGC2M"
      },
      "execution_count": null,
      "outputs": []
    },
    {
      "cell_type": "code",
      "source": [
        ""
      ],
      "metadata": {
        "id": "jnZ0nEGTGvoB"
      },
      "execution_count": null,
      "outputs": []
    }
  ]
}